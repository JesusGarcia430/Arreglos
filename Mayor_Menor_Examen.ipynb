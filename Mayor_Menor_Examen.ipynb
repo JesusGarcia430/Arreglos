{
  "nbformat": 4,
  "nbformat_minor": 0,
  "metadata": {
    "colab": {
      "name": "Mayor/Menor/Examen.ipynb",
      "provenance": []
    },
    "kernelspec": {
      "name": "python3",
      "display_name": "Python 3"
    },
    "language_info": {
      "name": "python"
    }
  },
  "cells": [
    {
      "cell_type": "code",
      "execution_count": 1,
      "metadata": {
        "colab": {
          "base_uri": "https://localhost:8080/"
        },
        "id": "yvU1H4GNScEb",
        "outputId": "85b8baf7-6721-41b1-e9ca-f069dd8cda73"
      },
      "outputs": [
        {
          "output_type": "stream",
          "name": "stdout",
          "text": [
            "Ingresa el rango: 4\n",
            "Ingresa el numero: 2\n",
            "Ingresa el numero: 9\n",
            "Ingresa el numero: 1\n",
            "Ingresa el numero: 4\n",
            "[2, 4, 9, 1]\n"
          ]
        }
      ],
      "source": [
        "A=[]\n",
        "num=int(input(\"Ingresa el rango: \"))\n",
        "for i in range(0,num):\n",
        "  A.append(int(input(\"Ingresa el numero: \")))\n",
        "for i in range(1,num):\n",
        "  for i in range(0,(num-1)):\n",
        "    compara1=A[i]%2\n",
        "    compara2=A[i+1]%2\n",
        "    if(compara1>compara2):\n",
        "        var=A[i]\n",
        "        A[i]=A[i+1]\n",
        "        A[i+1]=var\n",
        "print(A)"
      ]
    }
  ]
}