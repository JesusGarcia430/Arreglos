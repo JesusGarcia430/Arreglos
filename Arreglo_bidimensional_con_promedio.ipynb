{
  "nbformat": 4,
  "nbformat_minor": 0,
  "metadata": {
    "colab": {
      "name": "Arreglo bidimensional con promedio.ipynb",
      "provenance": []
    },
    "kernelspec": {
      "name": "python3",
      "display_name": "Python 3"
    },
    "language_info": {
      "name": "python"
    }
  },
  "cells": [
    {
      "cell_type": "code",
      "execution_count": null,
      "metadata": {
        "id": "hwvE_mAsL4eF"
      },
      "outputs": [],
      "source": [
        "#cal=0\n",
        "Totalh=0\n",
        "Totalm=0\n",
        "Calh=0\n",
        "Calm=0\n",
        "Promedioh=0\n",
        "Promediom=0\n",
        "papas=int(input(\"Ingresa el número de filas: \"))\n",
        "fritas=int(input(\"Ingresa el número de columnas: \"))\n",
        "A=[]\n",
        "valor=\"\"\n",
        "for i in range(0,fritas):\n",
        "  A.append([0]*papas)\n",
        "\n",
        "for i in range(0,fritas):\n",
        "  for j in range(0,papas):\n",
        "    if (j==0):\n",
        "      valor=\"numero de control\"\n",
        "    elif(j==1):\n",
        "      valor=\"nombre del alumno\"\n",
        "    elif(j==2):\n",
        "      valor=\"Genero\"\n",
        "    elif(j==3):\n",
        "      valor=\"Calificacion\"\n",
        "    A[i][j]=input(\"Datos \"+valor+ \": \" )\n",
        "for i in range(0,fritas):\n",
        "  #print(A[i][3]) #Calificaciones\n",
        "  #print(A[i][2]) #Gènero\n",
        "\n",
        "  if(A[i][2]=='H'):\n",
        "    Totalh=Totalh+1\n",
        "    Calh=Calh+int(A[i][3])\n",
        "\n",
        "  if(A[i][2]=='M'):\n",
        "    Totalm=Totalm+1\n",
        "    Calm=Calm+int(A[i][3])\n",
        "\n",
        "Promedioh=Calh/Totalh\n",
        "Promediom=Calm/Totalm\n",
        "\n",
        "print(Promedioh)\n",
        "print(Promediom)\n",
        "print(A)\n"
      ]
    }
  ]
}